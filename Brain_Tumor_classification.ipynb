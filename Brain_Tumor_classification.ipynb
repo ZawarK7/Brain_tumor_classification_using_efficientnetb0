{
  "nbformat": 4,
  "nbformat_minor": 0,
  "metadata": {
    "colab": {
      "provenance": []
    },
    "kernelspec": {
      "name": "python3",
      "display_name": "Python 3"
    },
    "language_info": {
      "name": "python"
    }
  },
  "cells": [
    {
      "cell_type": "code",
      "source": [
        "from google.colab import output\n",
        "output.clear()\n"
      ],
      "metadata": {
        "id": "GlIS68gelBa7"
      },
      "execution_count": 7,
      "outputs": []
    },
    {
      "cell_type": "code",
      "execution_count": 14,
      "metadata": {
        "id": "B7TOXRrveKDY"
      },
      "outputs": [],
      "source": [
        "import numpy as np\n",
        "import pandas as pd\n",
        "import matplotlib.pyplot as plt\n",
        "import tensorflow as tf"
      ]
    },
    {
      "cell_type": "code",
      "source": [
        "import zipfile\n",
        "import os\n",
        "data = zipfile.ZipFile('archive (6).zip')\n",
        "data.extractall()\n",
        "data.close()\n",
        "\n"
      ],
      "metadata": {
        "id": "yU6S_NfneW8M"
      },
      "execution_count": 10,
      "outputs": []
    },
    {
      "cell_type": "code",
      "source": [
        "for dirpath, dirnames, filenames in os.walk(\"archive (6)\"):\n",
        "  print(\"There are \", len(dirnames), \"directories and\", len(filenames),\"images in \", (dirpath))"
      ],
      "metadata": {
        "id": "xy4-hZ_djT5w"
      },
      "execution_count": 13,
      "outputs": []
    },
    {
      "cell_type": "code",
      "source": [
        "train_dir = '/content/Training'\n",
        "test_dir = '/content/Testing'\n",
        "\n",
        "\n",
        "train_data = tf.keras.preprocessing.image_dataset_from_directory(train_dir,\n",
        "                                                                  label_mode = 'categorical',\n",
        "                                                                  image_size = (224, 224))\n",
        "\n",
        "test_data = tf.keras.preprocessing.image_dataset_from_directory(test_dir,\n",
        "                                                                label_mode='categorical',\n",
        "                                                                image_size = (224,224),\n",
        "                                                                shuffle = False)"
      ],
      "metadata": {
        "colab": {
          "base_uri": "https://localhost:8080/"
        },
        "id": "Ea08SPz4mRQa",
        "outputId": "bca59b64-fac3-4cdf-ce54-59a97c8a0231"
      },
      "execution_count": 16,
      "outputs": [
        {
          "output_type": "stream",
          "name": "stdout",
          "text": [
            "Found 2870 files belonging to 4 classes.\n",
            "Found 394 files belonging to 4 classes.\n"
          ]
        }
      ]
    },
    {
      "cell_type": "code",
      "source": [
        "from keras.layers.serialization import activation\n",
        "from tensorflow.keras import layers\n",
        "from tensorflow.keras.models import Sequential\n",
        "from tensorflow.keras.layers.experimental import preprocessing\n",
        "\n",
        "efficient_net_url = \"https://tfhub.dev/tensorflow/efficientnet/b0/feature-vector/1\"\n",
        "\n",
        "base_model = tf.keras.applications.EfficientNetB0(include_top = False)\n",
        "inputs = layers.Input(shape = (224,224,3), name = 'Input_layer')\n",
        "x = base_model(inputs)\n",
        "x = layers.GlobalAveragePooling2D()(x)\n",
        "outputs  = layers.Dense(len(train_data.class_names), activation='softmax')(x)\n",
        "model = tf.keras.Model(inputs, outputs)"
      ],
      "metadata": {
        "id": "M4JiQDy9nT2V"
      },
      "execution_count": 24,
      "outputs": []
    },
    {
      "cell_type": "code",
      "source": [
        "model.compile(optimizer=tf.keras.optimizers.Adam(),\n",
        "              loss = tf.keras.losses.categorical_crossentropy,\n",
        "              metrics = ['accuracy'])\n",
        "\n",
        "history = model.fit(\n",
        "    train_data,\n",
        "    epochs = 5,\n",
        "    validation_data=test_data,\n",
        "    validation_steps=int(0.15 * len(test_data))\n",
        ")"
      ],
      "metadata": {
        "colab": {
          "base_uri": "https://localhost:8080/"
        },
        "id": "JxMVLav2qWkk",
        "outputId": "18b9ced5-93e3-4bba-fb66-80dcdd110478"
      },
      "execution_count": 26,
      "outputs": [
        {
          "output_type": "stream",
          "name": "stdout",
          "text": [
            "Epoch 1/5\n",
            "90/90 [==============================] - 575s 6s/step - loss: 0.3589 - accuracy: 0.8666 - val_loss: 7.0078 - val_accuracy: 0.2188\n",
            "Epoch 2/5\n",
            "90/90 [==============================] - 555s 6s/step - loss: 0.1265 - accuracy: 0.9578 - val_loss: 6.5326 - val_accuracy: 0.2188\n",
            "Epoch 3/5\n",
            "90/90 [==============================] - 532s 6s/step - loss: 0.0737 - accuracy: 0.9767 - val_loss: 10.5615 - val_accuracy: 0.0312\n",
            "Epoch 4/5\n",
            "90/90 [==============================] - 727s 8s/step - loss: 0.0584 - accuracy: 0.9798 - val_loss: 8.9257 - val_accuracy: 0.0625\n",
            "Epoch 5/5\n",
            "90/90 [==============================] - 482s 5s/step - loss: 0.0525 - accuracy: 0.9833 - val_loss: 9.4871 - val_accuracy: 0.0625\n"
          ]
        }
      ]
    },
    {
      "cell_type": "code",
      "source": [
        "pd.DataFrame(history.history).plot()"
      ],
      "metadata": {
        "colab": {
          "base_uri": "https://localhost:8080/",
          "height": 447
        },
        "id": "q0tlk_LVrZq3",
        "outputId": "a3a73a12-34e0-4f20-cc06-9d82adaa4c21"
      },
      "execution_count": 27,
      "outputs": [
        {
          "output_type": "execute_result",
          "data": {
            "text/plain": [
              "<Axes: >"
            ]
          },
          "metadata": {},
          "execution_count": 27
        },
        {
          "output_type": "display_data",
          "data": {
            "text/plain": [
              "<Figure size 640x480 with 1 Axes>"
            ],
            "image/png": "[encoded data removed]"
          },
          "metadata": {}
        }
      ]
    },
    {
      "cell_type": "code",
      "source": [],
      "metadata": {
        "id": "4H0Tm-OF2_nC"
      },
      "execution_count": null,
      "outputs": []
    }
  ]
}